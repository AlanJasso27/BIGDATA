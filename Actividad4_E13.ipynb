{
 "cells": [
  {
   "cell_type": "markdown",
   "id": "c8ba2f07",
   "metadata": {},
   "source": [
    "# Proyecto | Base de Datos de Big Data\n",
    "# Proyecto: Particionamiento y Muestreo sobre datos de Lending Club\n",
    "\n",
    "Este cuaderno tiene como objetivo aplicar técnicas de particionamiento y muestreo sobre un conjunto de datos de préstamos del portal Lending Club. Se identifican variables clave, se construyen combinaciones de particionamiento, y se extraen subconjuntos de datos representativos para etapas futuras de aprendizaje automático o análisis.\n"
   ]
  },
  {
   "cell_type": "code",
   "execution_count": 133,
   "id": "4675104f-352e-401c-b548-b8e9a643ef3b",
   "metadata": {},
   "outputs": [],
   "source": [
    "from pyspark.sql import SparkSession\n",
    "from pyspark.sql.functions import col, sum, when,mean, stddev, count, desc,to_date, year,round,lit\n",
    "from collections import Counter, defaultdict"
   ]
  },
  {
   "cell_type": "code",
   "execution_count": 134,
   "id": "e106a566-d994-4458-9167-ae070e9247c5",
   "metadata": {},
   "outputs": [
    {
     "data": {
      "text/html": [
       "\n",
       "            <div>\n",
       "                <p><b>SparkSession - in-memory</b></p>\n",
       "                \n",
       "        <div>\n",
       "            <p><b>SparkContext</b></p>\n",
       "\n",
       "            <p><a href=\"http://OscarGuadarrama:4040\">Spark UI</a></p>\n",
       "\n",
       "            <dl>\n",
       "              <dt>Version</dt>\n",
       "                <dd><code>v3.5.4</code></dd>\n",
       "              <dt>Master</dt>\n",
       "                <dd><code>local[*]</code></dd>\n",
       "              <dt>AppName</dt>\n",
       "                <dd><code>LendingClubLoanData</code></dd>\n",
       "            </dl>\n",
       "        </div>\n",
       "        \n",
       "            </div>\n",
       "        "
      ],
      "text/plain": [
       "<pyspark.sql.session.SparkSession at 0x18855d92e10>"
      ]
     },
     "execution_count": 134,
     "metadata": {},
     "output_type": "execute_result"
    }
   ],
   "source": [
    "spark = SparkSession.builder.appName(\"LendingClubLoanData\").getOrCreate()\n",
    "spark"
   ]
  },
  {
   "cell_type": "markdown",
   "id": "be2bf7aa",
   "metadata": {},
   "source": [
    "## 2. Carga de datos "
   ]
  },
  {
   "cell_type": "code",
   "execution_count": 135,
   "id": "30b60e18-1de5-4173-812c-dc96fc3aa7f7",
   "metadata": {},
   "outputs": [
    {
     "name": "stdout",
     "output_type": "stream",
     "text": [
      "+----+---------+---------+-----------+---------------+----------+--------+-----------+-----+---------+-------------------+----------+--------------+----------+-------------------+--------+-----------+----------+----+----+------------------+--------------------+--------+----------+-----+-----------+----------------+--------------+----------------------+----------------------+--------+-------+---------+----------+---------+-------------------+---------+-------------+-----------+---------------+---------------+-------------+------------------+----------+-----------------------+------------+---------------+------------+------------------+--------------------------+---------------------------+-----------+----------------+----------------+---------+-------------------------+--------------+------------+-----------+-----------+-----------+-----------+-----------+------------------+------------+-------+-----------+-----------+----------+--------+----------------+------+-----------+------------+--------------------+-----------+--------------+-------+------------------------+-----------+------------------+--------------------+---------------------+--------------+--------+--------------------+------------------------+---------------------+------------------------------+---------------------+--------------+---------------+-----------+---------+---------+-------------+-------------+-------------------+--------+----------------+------------+------------------+------------------+--------------+----------------+--------------------+---------+---------------+-----------------+--------------+--------------------------+---------------+------------------------+----------------------+----------------+----------------+------------------+-------------------+---------------------+--------------------------------+----------------------------------+-----------------------------------+-------------+-------------+---------------+---------------+-------------+---------------+-------------------+-----------------+-----------------------+---------------+------------+--------------------+------------------------------------------+------------------------------+----------------------------+-------------------+--------------------+-------------------------+-----------------+---------------+-----------------+---------------------+---------------+\n",
      "|  id|member_id|loan_amnt|funded_amnt|funded_amnt_inv|      term|int_rate|installment|grade|sub_grade|          emp_title|emp_length|home_ownership|annual_inc|verification_status| issue_d|loan_status|pymnt_plan| url|desc|           purpose|               title|zip_code|addr_state|  dti|delinq_2yrs|earliest_cr_line|inq_last_6mths|mths_since_last_delinq|mths_since_last_record|open_acc|pub_rec|revol_bal|revol_util|total_acc|initial_list_status|out_prncp|out_prncp_inv|total_pymnt|total_pymnt_inv|total_rec_prncp|total_rec_int|total_rec_late_fee|recoveries|collection_recovery_fee|last_pymnt_d|last_pymnt_amnt|next_pymnt_d|last_credit_pull_d|collections_12_mths_ex_med|mths_since_last_major_derog|policy_code|application_type|annual_inc_joint|dti_joint|verification_status_joint|acc_now_delinq|tot_coll_amt|tot_cur_bal|open_acc_6m|open_act_il|open_il_12m|open_il_24m|mths_since_rcnt_il|total_bal_il|il_util|open_rv_12m|open_rv_24m|max_bal_bc|all_util|total_rev_hi_lim|inq_fi|total_cu_tl|inq_last_12m|acc_open_past_24mths|avg_cur_bal|bc_open_to_buy|bc_util|chargeoff_within_12_mths|delinq_amnt|mo_sin_old_il_acct|mo_sin_old_rev_tl_op|mo_sin_rcnt_rev_tl_op|mo_sin_rcnt_tl|mort_acc|mths_since_recent_bc|mths_since_recent_bc_dlq|mths_since_recent_inq|mths_since_recent_revol_delinq|num_accts_ever_120_pd|num_actv_bc_tl|num_actv_rev_tl|num_bc_sats|num_bc_tl|num_il_tl|num_op_rev_tl|num_rev_accts|num_rev_tl_bal_gt_0|num_sats|num_tl_120dpd_2m|num_tl_30dpd|num_tl_90g_dpd_24m|num_tl_op_past_12m|pct_tl_nvr_dlq|percent_bc_gt_75|pub_rec_bankruptcies|tax_liens|tot_hi_cred_lim|total_bal_ex_mort|total_bc_limit|total_il_high_credit_limit|revol_bal_joint|sec_app_earliest_cr_line|sec_app_inq_last_6mths|sec_app_mort_acc|sec_app_open_acc|sec_app_revol_util|sec_app_open_act_il|sec_app_num_rev_accts|sec_app_chargeoff_within_12_mths|sec_app_collections_12_mths_ex_med|sec_app_mths_since_last_major_derog|hardship_flag|hardship_type|hardship_reason|hardship_status|deferral_term|hardship_amount|hardship_start_date|hardship_end_date|payment_plan_start_date|hardship_length|hardship_dpd|hardship_loan_status|orig_projected_additional_accrued_interest|hardship_payoff_balance_amount|hardship_last_payment_amount|disbursement_method|debt_settlement_flag|debt_settlement_flag_date|settlement_status|settlement_date|settlement_amount|settlement_percentage|settlement_term|\n",
      "+----+---------+---------+-----------+---------------+----------+--------+-----------+-----+---------+-------------------+----------+--------------+----------+-------------------+--------+-----------+----------+----+----+------------------+--------------------+--------+----------+-----+-----------+----------------+--------------+----------------------+----------------------+--------+-------+---------+----------+---------+-------------------+---------+-------------+-----------+---------------+---------------+-------------+------------------+----------+-----------------------+------------+---------------+------------+------------------+--------------------------+---------------------------+-----------+----------------+----------------+---------+-------------------------+--------------+------------+-----------+-----------+-----------+-----------+-----------+------------------+------------+-------+-----------+-----------+----------+--------+----------------+------+-----------+------------+--------------------+-----------+--------------+-------+------------------------+-----------+------------------+--------------------+---------------------+--------------+--------+--------------------+------------------------+---------------------+------------------------------+---------------------+--------------+---------------+-----------+---------+---------+-------------+-------------+-------------------+--------+----------------+------------+------------------+------------------+--------------+----------------+--------------------+---------+---------------+-----------------+--------------+--------------------------+---------------+------------------------+----------------------+----------------+----------------+------------------+-------------------+---------------------+--------------------------------+----------------------------------+-----------------------------------+-------------+-------------+---------------+---------------+-------------+---------------+-------------------+-----------------+-----------------------+---------------+------------+--------------------+------------------------------------------+------------------------------+----------------------------+-------------------+--------------------+-------------------------+-----------------+---------------+-----------------+---------------------+---------------+\n",
      "|NULL|     NULL|     2500|       2500|         2500.0| 36 months|   13.56|      84.92|    C|       C1|               Chef| 10+ years|          RENT|     55000|       Not Verified|Dec-2018|    Current|         n|NULL|NULL|debt_consolidation|  Debt consolidation|   109xx|        NY|18.24|          0|        Apr-2001|             1|                  NULL|                    45|       9|      1|     4341|      10.3|       34|                  w|  2386.02|      2386.02|     167.02|         167.02|         113.98|        53.04|               0.0|       0.0|                    0.0|    Feb-2019|          84.92|    Mar-2019|          Feb-2019|                         0|                       NULL|          1|      Individual|            NULL|     NULL|                     NULL|             0|           0|      16901|          2|          2|          1|          2|                 2|       12560|     69|          2|          7|      2137|      28|           42000|     1|         11|           2|                   9|       1878|         34360|    5.9|                     0.0|          0|             140.0|                 212|                    1|             1|       0|                   1|                    NULL|                    2|                          NULL|                    0|             2|              5|          3|        3|       16|            7|           18|                  5|       9|               0|           0|                 0|                 3|         100.0|             0.0|                   1|        0|          60124|            16901|         36500|                     18124|           NULL|                    NULL|                  NULL|            NULL|            NULL|              NULL|               NULL|                 NULL|                            NULL|                              NULL|                               NULL|            N|         NULL|           NULL|           NULL|         NULL|           NULL|               NULL|             NULL|                   NULL|           NULL|        NULL|                NULL|                                      NULL|                          NULL|                        NULL|               Cash|                   N|                     NULL|             NULL|           NULL|             NULL|                 NULL|           NULL|\n",
      "|NULL|     NULL|    30000|      30000|        30000.0| 60 months|   18.94|     777.23|    D|       D2|        Postmaster | 10+ years|      MORTGAGE|     90000|    Source Verified|Dec-2018|    Current|         n|NULL|NULL|debt_consolidation|  Debt consolidation|   713xx|        LA|26.52|          0|        Jun-1987|             0|                    71|                    75|      13|      1|    12315|      24.2|       44|                  w| 29387.75|     29387.75|    1507.11|        1507.11|         612.25|       894.86|               0.0|       0.0|                    0.0|    Feb-2019|         777.23|    Mar-2019|          Feb-2019|                         0|                       NULL|          1|      Individual|            NULL|     NULL|                     NULL|             0|        1208|     321915|          4|          4|          2|          3|                 3|       87153|     88|          4|          5|       998|      57|           50800|     2|         15|           2|                  10|      24763|         13761|    8.3|                     0.0|          0|             163.0|                 378|                    4|             3|       3|                   4|                    NULL|                    4|                          NULL|                    0|             2|              4|          4|        9|       27|            8|           14|                  4|      13|               0|           0|                 0|                 6|          95.0|             0.0|                   1|        0|         372872|            99468|         15000|                     94072|           NULL|                    NULL|                  NULL|            NULL|            NULL|              NULL|               NULL|                 NULL|                            NULL|                              NULL|                               NULL|            N|         NULL|           NULL|           NULL|         NULL|           NULL|               NULL|             NULL|                   NULL|           NULL|        NULL|                NULL|                                      NULL|                          NULL|                        NULL|               Cash|                   N|                     NULL|             NULL|           NULL|             NULL|                 NULL|           NULL|\n",
      "|NULL|     NULL|     5000|       5000|         5000.0| 36 months|   17.97|     180.69|    D|       D1|     Administrative|   6 years|      MORTGAGE|     59280|    Source Verified|Dec-2018|    Current|         n|NULL|NULL|debt_consolidation|  Debt consolidation|   490xx|        MI|10.51|          0|        Apr-2011|             0|                  NULL|                  NULL|       8|      0|     4599|      19.1|       13|                  w|  4787.21|      4787.21|     353.89|         353.89|         212.79|       141.10|               0.0|       0.0|                    0.0|    Feb-2019|         180.69|    Mar-2019|          Feb-2019|                         0|                       NULL|          1|      Individual|            NULL|     NULL|                     NULL|             0|           0|     110299|          0|          1|          0|          2|                14|        7150|     72|          0|          2|         0|      35|           24100|     1|          5|           0|                   4|      18383|         13800|      0|                     0.0|          0|              87.0|                  92|                   15|            14|       2|                  77|                    NULL|                   14|                          NULL|                    0|             0|              3|          3|        3|        4|            6|            7|                  3|       8|               0|           0|                 0|                 0|         100.0|             0.0|                   0|        0|         136927|            11749|         13800|                     10000|           NULL|                    NULL|                  NULL|            NULL|            NULL|              NULL|               NULL|                 NULL|                            NULL|                              NULL|                               NULL|            N|         NULL|           NULL|           NULL|         NULL|           NULL|               NULL|             NULL|                   NULL|           NULL|        NULL|                NULL|                                      NULL|                          NULL|                        NULL|               Cash|                   N|                     NULL|             NULL|           NULL|             NULL|                 NULL|           NULL|\n",
      "|NULL|     NULL|     4000|       4000|         4000.0| 36 months|   18.94|     146.51|    D|       D2|      IT Supervisor| 10+ years|      MORTGAGE|     92000|    Source Verified|Dec-2018|    Current|         n|NULL|NULL|debt_consolidation|  Debt consolidation|   985xx|        WA|16.74|          0|        Feb-2006|             0|                  NULL|                  NULL|      10|      0|     5468|      78.1|       13|                  w|  3831.93|      3831.93|     286.71|         286.71|         168.07|       118.64|               0.0|       0.0|                    0.0|    Feb-2019|         146.51|    Mar-2019|          Feb-2019|                         0|                       NULL|          1|      Individual|            NULL|     NULL|                     NULL|             0|         686|     305049|          1|          5|          3|          5|                 5|       30683|     68|          0|          0|      3761|      70|            7000|     2|          4|           3|                   5|      30505|          1239|   75.2|                     0.0|          0|              62.0|                 154|                   64|             5|       3|                  64|                    NULL|                    5|                          NULL|                    0|             1|              2|          1|        2|        7|            2|            3|                  2|      10|               0|           0|                 0|                 3|         100.0|           100.0|                   0|        0|         385183|            36151|          5000|                     44984|           NULL|                    NULL|                  NULL|            NULL|            NULL|              NULL|               NULL|                 NULL|                            NULL|                              NULL|                               NULL|            N|         NULL|           NULL|           NULL|         NULL|           NULL|               NULL|             NULL|                   NULL|           NULL|        NULL|                NULL|                                      NULL|                          NULL|                        NULL|               Cash|                   N|                     NULL|             NULL|           NULL|             NULL|                 NULL|           NULL|\n",
      "|NULL|     NULL|    30000|      30000|        30000.0| 60 months|   16.14|     731.78|    C|       C4|           Mechanic| 10+ years|      MORTGAGE|     57250|       Not Verified|Dec-2018|    Current|         n|NULL|NULL|debt_consolidation|  Debt consolidation|   212xx|        MD|26.35|          0|        Dec-2000|             0|                  NULL|                  NULL|      12|      0|      829|       3.6|       26|                  w| 29339.02|     29339.02|    1423.21|        1423.21|         660.98|       762.23|               0.0|       0.0|                    0.0|    Feb-2019|         731.78|    Mar-2019|          Feb-2019|                         0|                       NULL|          1|      Individual|            NULL|     NULL|                     NULL|             0|           0|     116007|          3|          5|          3|          5|                 4|       28845|     89|          2|          4|       516|      54|           23100|     1|          0|           0|                   9|       9667|          8471|    8.9|                     0.0|          0|              53.0|                 216|                    2|             2|       2|                   2|                    NULL|                   13|                          NULL|                    0|             2|              2|          3|        8|        9|            6|           15|                  2|      12|               0|           0|                 0|                 5|          92.3|             0.0|                   0|        0|         157548|            29674|          9300|                     32332|           NULL|                    NULL|                  NULL|            NULL|            NULL|              NULL|               NULL|                 NULL|                            NULL|                              NULL|                               NULL|            N|         NULL|           NULL|           NULL|         NULL|           NULL|               NULL|             NULL|                   NULL|           NULL|        NULL|                NULL|                                      NULL|                          NULL|                        NULL|               Cash|                   N|                     NULL|             NULL|           NULL|             NULL|                 NULL|           NULL|\n",
      "|NULL|     NULL|     5550|       5550|         5550.0| 36 months|   15.02|     192.45|    C|       C3|       Director COE| 10+ years|      MORTGAGE|    152500|       Not Verified|Dec-2018|    Current|         n|NULL|NULL|       credit_card|Credit card refin...|   461xx|        IN|37.94|          0|        Sep-2002|             3|                  NULL|                  NULL|      18|      0|    53854|      48.1|       44|                  w|  5302.50|      5302.50|     377.95|         377.95|         247.50|       130.45|               0.0|       0.0|                    0.0|    Feb-2019|         192.45|    Mar-2019|          Feb-2019|                         0|                       NULL|          1|      Individual|            NULL|     NULL|                     NULL|             0|           0|     685749|          1|          7|          2|          3|                 4|      131524|     72|          1|          4|     17584|      58|          111900|     2|          4|           6|                   8|      40338|         23746|     64|                     0.0|          0|             195.0|                 176|                   10|             4|       6|                  20|                    NULL|                    3|                          NULL|                    0|             4|              6|          6|       10|       23|            9|           15|                  7|      18|               0|           0|                 0|                 4|         100.0|            60.0|                   0|        0|         831687|           185378|         65900|                    203159|           NULL|                    NULL|                  NULL|            NULL|            NULL|              NULL|               NULL|                 NULL|                            NULL|                              NULL|                               NULL|            N|         NULL|           NULL|           NULL|         NULL|           NULL|               NULL|             NULL|                   NULL|           NULL|        NULL|                NULL|                                      NULL|                          NULL|                        NULL|               Cash|                   N|                     NULL|             NULL|           NULL|             NULL|                 NULL|           NULL|\n",
      "|NULL|     NULL|     2000|       2000|         2000.0| 36 months|   17.97|      72.28|    D|       D1|    Account Manager|   4 years|          RENT|     51000|    Source Verified|Dec-2018|    Current|         n|NULL|NULL|debt_consolidation|  Debt consolidation|   606xx|        IL|  2.4|          0|        Nov-2004|             1|                  NULL|                  NULL|       1|      0|        0|      NULL|        9|                  w|  1914.71|      1914.71|     141.56|         141.56|          85.29|        56.27|               0.0|       0.0|                    0.0|    Feb-2019|          72.28|    Mar-2019|          Feb-2019|                         0|                       NULL|          1|      Individual|            NULL|     NULL|                     NULL|             0|           0|        854|          0|          0|          2|          3|                 7|           0|   NULL|          0|          1|         0|     100|               0|     0|          0|           1|                   4|        854|          NULL|   NULL|                     0.0|          0|             169.0|                  40|                   23|             7|       0|                NULL|                    NULL|                    1|                          NULL|                    0|             0|              0|          0|        3|        5|            0|            3|                  0|       1|               0|           0|                 0|                 2|         100.0|            NULL|                   0|        0|            854|              854|             0|                         0|           NULL|                    NULL|                  NULL|            NULL|            NULL|              NULL|               NULL|                 NULL|                            NULL|                              NULL|                               NULL|            N|         NULL|           NULL|           NULL|         NULL|           NULL|               NULL|             NULL|                   NULL|           NULL|        NULL|                NULL|                                      NULL|                          NULL|                        NULL|               Cash|                   N|                     NULL|             NULL|           NULL|             NULL|                 NULL|           NULL|\n",
      "|NULL|     NULL|     6000|       6000|         6000.0| 36 months|   13.56|     203.79|    C|       C1| Assistant Director| 10+ years|          RENT|     65000|    Source Verified|Dec-2018|    Current|         n|NULL|NULL|       credit_card|Credit card refin...|   460xx|        IN| 30.1|          0|        Nov-1997|             0|                  NULL|                  NULL|      19|      0|    38476|      69.3|       37|                  w|  5864.01|      5864.01|     201.53|         201.53|         135.99|        65.54|               0.0|       0.0|                    0.0|    Feb-2019|         208.31|    Mar-2019|          Feb-2019|                         0|                       NULL|          1|      Individual|            NULL|     NULL|                     NULL|             0|           0|      91535|          0|          5|          0|          1|                23|       53059|     87|          0|          2|      9413|      74|           55500|     1|          2|           0|                   3|       5085|          3034|   90.8|                     0.0|          0|             169.0|                 253|                   13|            13|       1|                  14|                    NULL|                   13|                          NULL|                    0|             7|             12|          8|       10|       15|           14|           20|                 12|      19|               0|           0|                 0|                 0|         100.0|            85.7|                   0|        0|         117242|            91535|         33100|                     61742|           NULL|                    NULL|                  NULL|            NULL|            NULL|              NULL|               NULL|                 NULL|                            NULL|                              NULL|                               NULL|            N|         NULL|           NULL|           NULL|         NULL|           NULL|               NULL|             NULL|                   NULL|           NULL|        NULL|                NULL|                                      NULL|                          NULL|                        NULL|          DirectPay|                   N|                     NULL|             NULL|           NULL|             NULL|                 NULL|           NULL|\n",
      "|NULL|     NULL|     5000|       5000|         5000.0| 36 months|   17.97|     180.69|    D|       D1|Legal Assistant III| 10+ years|      MORTGAGE|     53580|    Source Verified|Dec-2018|    Current|         n|NULL|NULL|debt_consolidation|  Debt consolidation|   327xx|        FL|21.16|          0|        Aug-1998|             1|                    32|                  NULL|       8|      0|     8018|      35.2|       38|                  w|  4786.79|      4786.79|     353.89|         353.89|         213.21|       140.68|               0.0|       0.0|                    0.0|    Feb-2019|         180.69|    Mar-2019|          Feb-2019|                         0|                         45|          1|      Individual|            NULL|     NULL|                     NULL|             0|           0|      41882|          5|          2|          5|          5|                 3|       33864|     98|          1|          6|      3132|      73|           22800|     2|          1|           4|                  12|       5235|         13786|   35.9|                     0.0|          0|             145.0|                 244|                    6|             3|       3|                   6|                      33|                    2|                            32|                    2|             4|              5|          5|       10|       20|            6|           15|                  5|       8|               0|           0|                 0|                 6|          78.9|            60.0|                   0|        0|          57426|            41882|         21500|                     34626|           NULL|                    NULL|                  NULL|            NULL|            NULL|              NULL|               NULL|                 NULL|                            NULL|                              NULL|                               NULL|            N|         NULL|           NULL|           NULL|         NULL|           NULL|               NULL|             NULL|                   NULL|           NULL|        NULL|                NULL|                                      NULL|                          NULL|                        NULL|               Cash|                   N|                     NULL|             NULL|           NULL|             NULL|                 NULL|           NULL|\n",
      "|NULL|     NULL|     6000|       6000|         6000.0| 36 months|   14.47|     206.44|    C|       C2|               NULL|  < 1 year|           OWN|    300000|       Not Verified|Dec-2018|    Current|         n|NULL|NULL|debt_consolidation|  Debt consolidation|   068xx|        CT|17.43|          1|        Apr-2002|             1|                    17|                  NULL|      38|      0|    65950|      49.8|       58|                  w|  5730.20|      5730.20|     405.64|         405.64|         269.80|       135.84|               0.0|       0.0|                    0.0|    Feb-2019|         206.44|    Mar-2019|          Feb-2019|                         0|                       NULL|          1|      Individual|            NULL|     NULL|                     NULL|             0|           0|     349502|          1|          4|          1|          3|                 7|       39961|     45|          1|         12|     15926|      48|          132500|     2|          2|           2|                  15|       9197|         38683|   60.6|                     0.0|          0|             166.0|                 200|                    4|             4|       1|                   4|                    NULL|                    4|                            17|                    0|            16|             20|         19|       26|        9|           33|           48|                 20|      38|               0|           0|                 0|                 2|         100.0|            26.3|                   0|        0|         477390|           105911|         98300|                     89600|           NULL|                    NULL|                  NULL|            NULL|            NULL|              NULL|               NULL|                 NULL|                            NULL|                              NULL|                               NULL|            N|         NULL|           NULL|           NULL|         NULL|           NULL|               NULL|             NULL|                   NULL|           NULL|        NULL|                NULL|                                      NULL|                          NULL|                        NULL|               Cash|                   N|                     NULL|             NULL|           NULL|             NULL|                 NULL|           NULL|\n",
      "+----+---------+---------+-----------+---------------+----------+--------+-----------+-----+---------+-------------------+----------+--------------+----------+-------------------+--------+-----------+----------+----+----+------------------+--------------------+--------+----------+-----+-----------+----------------+--------------+----------------------+----------------------+--------+-------+---------+----------+---------+-------------------+---------+-------------+-----------+---------------+---------------+-------------+------------------+----------+-----------------------+------------+---------------+------------+------------------+--------------------------+---------------------------+-----------+----------------+----------------+---------+-------------------------+--------------+------------+-----------+-----------+-----------+-----------+-----------+------------------+------------+-------+-----------+-----------+----------+--------+----------------+------+-----------+------------+--------------------+-----------+--------------+-------+------------------------+-----------+------------------+--------------------+---------------------+--------------+--------+--------------------+------------------------+---------------------+------------------------------+---------------------+--------------+---------------+-----------+---------+---------+-------------+-------------+-------------------+--------+----------------+------------+------------------+------------------+--------------+----------------+--------------------+---------+---------------+-----------------+--------------+--------------------------+---------------+------------------------+----------------------+----------------+----------------+------------------+-------------------+---------------------+--------------------------------+----------------------------------+-----------------------------------+-------------+-------------+---------------+---------------+-------------+---------------+-------------------+-----------------+-----------------------+---------------+------------+--------------------+------------------------------------------+------------------------------+----------------------------+-------------------+--------------------+-------------------------+-----------------+---------------+-----------------+---------------------+---------------+\n",
      "only showing top 10 rows\n",
      "\n"
     ]
    }
   ],
   "source": [
    "df = spark.read.option(\"header\", True).option(\"inferSchema\", True).csv(\"E:/Tareas/BigData/A3/loan.csv\")\n",
    "df.show(10)"
   ]
  },
  {
   "cell_type": "markdown",
   "id": "c6028155",
   "metadata": {},
   "source": [
    "## 3. Limpieza y creación de columnas útiles"
   ]
  },
  {
   "cell_type": "code",
   "execution_count": 136,
   "id": "f03103c2",
   "metadata": {},
   "outputs": [
    {
     "name": "stdout",
     "output_type": "stream",
     "text": [
      "Columnas seleccionadas: 87\n"
     ]
    }
   ],
   "source": [
    "total_rows = df.count()\n",
    "\n",
    "porcentaje_nulos = df.select([(sum(when(col(c).isNull() | (col(c) == ''), 1).otherwise(0)) / total_rows).alias(c)for c in df.columns])\n",
    "porcentaje_nulos_pd = porcentaje_nulos.toPandas().T\n",
    "porcentaje_nulos_pd.columns = [\"porcentaje_nulo\"]\n",
    "columnas_validas = porcentaje_nulos_pd[porcentaje_nulos_pd[\"porcentaje_nulo\"] < 0.2].index.tolist()\n",
    "df = df.select(*columnas_validas)\n",
    "print(f\"Columnas seleccionadas: {len(columnas_validas)}\")"
   ]
  },
  {
   "cell_type": "markdown",
   "id": "45d33048",
   "metadata": {},
   "source": [
    "Seleccion de variables"
   ]
  },
  {
   "cell_type": "code",
   "execution_count": 137,
   "id": "ea54fb9e",
   "metadata": {},
   "outputs": [
    {
     "name": "stdout",
     "output_type": "stream",
     "text": [
      "+---------+----------+--------+-----------+-----+----------+--------------+----------+------------------+-----------+\n",
      "|loan_amnt|      term|int_rate|installment|grade|emp_length|home_ownership|annual_inc|           purpose|loan_status|\n",
      "+---------+----------+--------+-----------+-----+----------+--------------+----------+------------------+-----------+\n",
      "|     2500| 36 months|   13.56|      84.92|    C| 10+ years|          RENT|     55000|debt_consolidation|    Current|\n",
      "|    30000| 60 months|   18.94|     777.23|    D| 10+ years|      MORTGAGE|     90000|debt_consolidation|    Current|\n",
      "|     5000| 36 months|   17.97|     180.69|    D|   6 years|      MORTGAGE|     59280|debt_consolidation|    Current|\n",
      "|     4000| 36 months|   18.94|     146.51|    D| 10+ years|      MORTGAGE|     92000|debt_consolidation|    Current|\n",
      "|    30000| 60 months|   16.14|     731.78|    C| 10+ years|      MORTGAGE|     57250|debt_consolidation|    Current|\n",
      "|     5550| 36 months|   15.02|     192.45|    C| 10+ years|      MORTGAGE|    152500|       credit_card|    Current|\n",
      "|     2000| 36 months|   17.97|      72.28|    D|   4 years|          RENT|     51000|debt_consolidation|    Current|\n",
      "|     6000| 36 months|   13.56|     203.79|    C| 10+ years|          RENT|     65000|       credit_card|    Current|\n",
      "|     5000| 36 months|   17.97|     180.69|    D| 10+ years|      MORTGAGE|     53580|debt_consolidation|    Current|\n",
      "|     6000| 36 months|   14.47|     206.44|    C|  < 1 year|           OWN|    300000|debt_consolidation|    Current|\n",
      "+---------+----------+--------+-----------+-----+----------+--------------+----------+------------------+-----------+\n",
      "only showing top 10 rows\n",
      "\n"
     ]
    }
   ],
   "source": [
    "columnas = ['loan_amnt', 'term', 'int_rate', 'installment', 'grade','emp_length', 'home_ownership', 'annual_inc', 'purpose', 'loan_status']\n",
    "df = df.select(columnas)\n",
    "df.show(10)"
   ]
  },
  {
   "cell_type": "code",
   "execution_count": 138,
   "id": "eda5ee3b",
   "metadata": {},
   "outputs": [
    {
     "name": "stdout",
     "output_type": "stream",
     "text": [
      "root\n",
      " |-- loan_amnt: integer (nullable = true)\n",
      " |-- term: string (nullable = true)\n",
      " |-- int_rate: double (nullable = true)\n",
      " |-- installment: double (nullable = true)\n",
      " |-- grade: string (nullable = true)\n",
      " |-- emp_length: string (nullable = true)\n",
      " |-- home_ownership: string (nullable = true)\n",
      " |-- annual_inc: string (nullable = true)\n",
      " |-- purpose: string (nullable = true)\n",
      " |-- loan_status: string (nullable = true)\n",
      "\n"
     ]
    }
   ],
   "source": [
    "df.printSchema()"
   ]
  },
  {
   "cell_type": "markdown",
   "id": "498fa52d",
   "metadata": {},
   "source": [
    "Agrupamos valores poco frecuentes en las columnas `purpose`,`home_ownership` y `loan_status` para reducir el número de combinaciones."
   ]
  },
  {
   "cell_type": "code",
   "execution_count": 139,
   "id": "13f5715d",
   "metadata": {},
   "outputs": [],
   "source": [
    "from pyspark.sql.functions import when\n",
    "\n",
    "\n",
    "categorias_frecuentes = ['debt_consolidation', 'credit_card', 'home_improvement']\n",
    "\n",
    "df = df.withColumn(\n",
    "    \"purpose\",\n",
    "    when(col(\"purpose\").isin(categorias_frecuentes), col(\"purpose\"))\n",
    "    .otherwise(\"other\")\n",
    ")\n",
    "\n",
    "categorias_frecuentes = ['MORTGAGE','RENT','OWN']\n",
    "\n",
    "df = df.withColumn(\n",
    "    \"home_ownership\",\n",
    "    when(col(\"home_ownership\").isin(categorias_frecuentes), col(\"home_ownership\"))\n",
    "    .otherwise(\"OTHER\")\n",
    ")\n",
    "df = df.withColumn(\n",
    "    \"loan_status\",\n",
    "    when(col(\"loan_status\").isin(\"Fully Paid\", \"Current\"), \"no_riesgo\")\n",
    "    .when(col(\"loan_status\").isin(\"Charged Off\", \"Late (31-120 days)\", \"Late (16-30 days)\"), \"riesgo_medio\")\n",
    "    .otherwise(\"riesgo_alto\")\n",
    ")"
   ]
  },
  {
   "cell_type": "markdown",
   "id": "7fd667cc",
   "metadata": {},
   "source": [
    "Estadística descriptiva para las 10 variables seleccionadas "
   ]
  },
  {
   "cell_type": "code",
   "execution_count": 140,
   "id": "f6cd5dfa",
   "metadata": {},
   "outputs": [
    {
     "name": "stdout",
     "output_type": "stream",
     "text": [
      "+-------+------------------+-----------------+------------------+-----------------+\n",
      "|summary|         loan_amnt|         int_rate|       installment|       annual_inc|\n",
      "+-------+------------------+-----------------+------------------+-----------------+\n",
      "|  count|           2260668|          2260668|           2260668|          2260664|\n",
      "|   mean|15046.931227849467|13.09291294431385|445.80764592588497|77992.44637764234|\n",
      "| stddev| 9190.245488232782|4.832114232872253| 267.1737249936657|112696.2213609144|\n",
      "|    min|               500|             5.31|              4.93|                0|\n",
      "|    max|             40000|            30.99|           1719.83|         MORTGAGE|\n",
      "+-------+------------------+-----------------+------------------+-----------------+\n",
      "\n"
     ]
    }
   ],
   "source": [
    "df.describe('loan_amnt', 'int_rate', 'installment', 'annual_inc').show()"
   ]
  },
  {
   "cell_type": "code",
   "execution_count": 141,
   "id": "7a5c2ac3",
   "metadata": {},
   "outputs": [
    {
     "name": "stdout",
     "output_type": "stream",
     "text": [
      "\n",
      "Distribución de la variable 'term':\n",
      "+----------+----------+--------------+\n",
      "|term      |frecuencia|porcentaje (%)|\n",
      "+----------+----------+--------------+\n",
      "| 36 months|1609754   |71.21         |\n",
      "| 60 months|650914    |28.79         |\n",
      "+----------+----------+--------------+\n",
      "\n",
      "\n",
      "Distribución de la variable 'grade':\n",
      "+-----+----------+--------------+\n",
      "|grade|frecuencia|porcentaje (%)|\n",
      "+-----+----------+--------------+\n",
      "|B    |663557    |29.35         |\n",
      "|C    |650053    |28.75         |\n",
      "|A    |433027    |19.15         |\n",
      "|D    |324424    |14.35         |\n",
      "|E    |135639    |6.0           |\n",
      "|F    |41800     |1.85          |\n",
      "|G    |12168     |0.54          |\n",
      "+-----+----------+--------------+\n",
      "\n",
      "\n",
      "Distribución de la variable 'emp_length':\n",
      "+----------+----------+--------------+\n",
      "|emp_length|frecuencia|porcentaje (%)|\n",
      "+----------+----------+--------------+\n",
      "|10+ years |748005    |33.09         |\n",
      "|2 years   |203676    |9.01          |\n",
      "|< 1 year  |189988    |8.4           |\n",
      "|3 years   |180753    |8.0           |\n",
      "|1 year    |148403    |6.56          |\n",
      "|n/a       |146907    |6.5           |\n",
      "|5 years   |139698    |6.18          |\n",
      "|4 years   |136605    |6.04          |\n",
      "|6 years   |102628    |4.54          |\n",
      "|7 years   |92695     |4.1           |\n",
      "|8 years   |91914     |4.07          |\n",
      "|9 years   |79395     |3.51          |\n",
      "| reactors\"|1         |0.0           |\n",
      "+----------+----------+--------------+\n",
      "\n",
      "\n",
      "Distribución de la variable 'home_ownership':\n",
      "+--------------+----------+--------------+\n",
      "|home_ownership|frecuencia|porcentaje (%)|\n",
      "+--------------+----------+--------------+\n",
      "|MORTGAGE      |1111449   |49.16         |\n",
      "|RENT          |894929    |39.59         |\n",
      "|OWN           |253057    |11.19         |\n",
      "|OTHER         |1233      |0.05          |\n",
      "+--------------+----------+--------------+\n",
      "\n",
      "\n",
      "Distribución de la variable 'purpose':\n",
      "+------------------+----------+--------------+\n",
      "|purpose           |frecuencia|porcentaje (%)|\n",
      "+------------------+----------+--------------+\n",
      "|debt_consolidation|1277790   |56.52         |\n",
      "|credit_card       |516926    |22.87         |\n",
      "|other             |315512    |13.96         |\n",
      "|home_improvement  |150440    |6.65          |\n",
      "+------------------+----------+--------------+\n",
      "\n",
      "\n",
      "Distribución de la variable 'loan_status':\n",
      "+------------+----------+--------------+\n",
      "|loan_status |frecuencia|porcentaje (%)|\n",
      "+------------+----------+--------------+\n",
      "|no_riesgo   |1961647   |86.77         |\n",
      "|riesgo_medio|287288    |12.71         |\n",
      "|riesgo_alto |11733     |0.52          |\n",
      "+------------+----------+--------------+\n",
      "\n"
     ]
    }
   ],
   "source": [
    "categoricas = ['term', 'grade', 'emp_length', 'home_ownership', 'purpose', 'loan_status']\n",
    "\n",
    "for col_name in categoricas:\n",
    "    print(f\"\\nDistribución de la variable '{col_name}':\")\n",
    "    \n",
    "    total_count = df.select(col_name).count()\n",
    "    \n",
    "    df.groupBy(col_name) \\\n",
    "      .agg(count(\"*\").alias(\"frecuencia\")) \\\n",
    "      .withColumn(\"porcentaje (%)\", round((col(\"frecuencia\") / total_count) * 100, 2)) \\\n",
    "      .orderBy(\"frecuencia\", ascending=False) \\\n",
    "      .show(truncate=False)\n"
   ]
  },
  {
   "cell_type": "markdown",
   "id": "69e1538a",
   "metadata": {},
   "source": [
    "##  5. Particionamiento: combinaciones y probabilidades"
   ]
  },
  {
   "cell_type": "code",
   "execution_count": 142,
   "id": "37aa06d1",
   "metadata": {},
   "outputs": [
    {
     "name": "stdout",
     "output_type": "stream",
     "text": [
      "Combinaciones posibles: 48\n",
      "+------------+--------------+------------------+----------+----------------+\n",
      "|loan_status |home_ownership|purpose           |frecuencia|probabilidad (%)|\n",
      "+------------+--------------+------------------+----------+----------------+\n",
      "|no_riesgo   |MORTGAGE      |debt_consolidation|551048    |24.38           |\n",
      "|no_riesgo   |RENT          |debt_consolidation|432505    |19.13           |\n",
      "|no_riesgo   |MORTGAGE      |credit_card       |219769    |9.72            |\n",
      "|no_riesgo   |RENT          |credit_card       |188961    |8.36            |\n",
      "|no_riesgo   |RENT          |other             |125938    |5.57            |\n",
      "|no_riesgo   |OWN           |debt_consolidation|111406    |4.93            |\n",
      "|no_riesgo   |MORTGAGE      |other             |110795    |4.9             |\n",
      "|no_riesgo   |MORTGAGE      |home_improvement  |101616    |4.49            |\n",
      "|riesgo_medio|RENT          |debt_consolidation|82060     |3.63            |\n",
      "|riesgo_medio|MORTGAGE      |debt_consolidation|75959     |3.36            |\n",
      "|no_riesgo   |OWN           |credit_card       |52388     |2.32            |\n",
      "|no_riesgo   |OWN           |other             |34984     |1.55            |\n",
      "|riesgo_medio|RENT          |credit_card       |25559     |1.13            |\n",
      "|riesgo_medio|RENT          |other             |22794     |1.01            |\n",
      "|riesgo_medio|MORTGAGE      |credit_card       |21611     |0.96            |\n",
      "|no_riesgo   |OWN           |home_improvement  |20791     |0.92            |\n",
      "|riesgo_medio|OWN           |debt_consolidation|17769     |0.79            |\n",
      "|riesgo_medio|MORTGAGE      |other             |13264     |0.59            |\n",
      "|riesgo_medio|MORTGAGE      |home_improvement  |11957     |0.53            |\n",
      "|no_riesgo   |RENT          |home_improvement  |10366     |0.46            |\n",
      "+------------+--------------+------------------+----------+----------------+\n",
      "only showing top 20 rows\n",
      "\n"
     ]
    }
   ],
   "source": [
    "from pyspark.sql.functions import col, round, count\n",
    "\n",
    "total = df.count()\n",
    "\n",
    "combinaciones = df.groupBy(\"loan_status\", \"home_ownership\", \"purpose\") \\\n",
    "    .count() \\\n",
    "    .withColumnRenamed(\"count\", \"frecuencia\") \\\n",
    "    .withColumn(\"probabilidad (%)\", round((col(\"frecuencia\") / total) * 100, 2)) \\\n",
    "    .orderBy(\"frecuencia\", ascending=False)\n",
    "\n",
    "print(\"Combinaciones posibles:\", combinaciones.count())\n",
    "combinaciones.show(truncate=False)\n"
   ]
  },
  {
   "cell_type": "markdown",
   "id": "6617d842",
   "metadata": {},
   "source": [
    " ## 6. Filtrado de una partición"
   ]
  },
  {
   "cell_type": "code",
   "execution_count": 143,
   "id": "3a0971cc",
   "metadata": {},
   "outputs": [
    {
     "name": "stdout",
     "output_type": "stream",
     "text": [
      "Cantidad de registros en la partición: 551048\n",
      "+---------+----------+--------+-----------+-----+----------+--------------+----------+------------------+-----------+\n",
      "|loan_amnt|      term|int_rate|installment|grade|emp_length|home_ownership|annual_inc|           purpose|loan_status|\n",
      "+---------+----------+--------+-----------+-----+----------+--------------+----------+------------------+-----------+\n",
      "|    30000| 60 months|   18.94|     777.23|    D| 10+ years|      MORTGAGE|     90000|debt_consolidation|  no_riesgo|\n",
      "|     5000| 36 months|   17.97|     180.69|    D|   6 years|      MORTGAGE|     59280|debt_consolidation|  no_riesgo|\n",
      "|     4000| 36 months|   18.94|     146.51|    D| 10+ years|      MORTGAGE|     92000|debt_consolidation|  no_riesgo|\n",
      "|    30000| 60 months|   16.14|     731.78|    C| 10+ years|      MORTGAGE|     57250|debt_consolidation|  no_riesgo|\n",
      "|     5000| 36 months|   17.97|     180.69|    D| 10+ years|      MORTGAGE|     53580|debt_consolidation|  no_riesgo|\n",
      "+---------+----------+--------+-----------+-----+----------+--------------+----------+------------------+-----------+\n",
      "only showing top 5 rows\n",
      "\n"
     ]
    }
   ],
   "source": [
    "df_part1 = df.filter(\n",
    "    (col(\"loan_status\") == \"no_riesgo\") &\n",
    "    (col(\"home_ownership\") == \"MORTGAGE\") &\n",
    "    (col(\"purpose\") == \"debt_consolidation\")\n",
    ")\n",
    "\n",
    "print(\"Cantidad de registros en la partición:\", df_part1.count())\n",
    "df_part1.show(5)\n"
   ]
  },
  {
   "cell_type": "code",
   "execution_count": 144,
   "id": "ff8bf35e",
   "metadata": {},
   "outputs": [
    {
     "name": "stdout",
     "output_type": "stream",
     "text": [
      "Cantidad de registros en la partición: 432505\n",
      "+---------+----------+--------+-----------+-----+----------+--------------+----------+------------------+-----------+\n",
      "|loan_amnt|      term|int_rate|installment|grade|emp_length|home_ownership|annual_inc|           purpose|loan_status|\n",
      "+---------+----------+--------+-----------+-----+----------+--------------+----------+------------------+-----------+\n",
      "|     2500| 36 months|   13.56|      84.92|    C| 10+ years|          RENT|     55000|debt_consolidation|  no_riesgo|\n",
      "|     2000| 36 months|   17.97|      72.28|    D|   4 years|          RENT|     51000|debt_consolidation|  no_riesgo|\n",
      "|    23000| 60 months|   20.89|     620.81|    D|   5 years|          RENT|     68107|debt_consolidation|  no_riesgo|\n",
      "|    20000| 36 months|   12.98|     673.69|    B|   5 years|          RENT|     74800|debt_consolidation|  no_riesgo|\n",
      "|     2200| 36 months|   15.02|      76.29|    C|       n/a|          RENT|     70000|debt_consolidation|  no_riesgo|\n",
      "+---------+----------+--------+-----------+-----+----------+--------------+----------+------------------+-----------+\n",
      "only showing top 5 rows\n",
      "\n"
     ]
    }
   ],
   "source": [
    "df_part2 = df.filter(\n",
    "    (col(\"loan_status\") == \"no_riesgo\") &\n",
    "    (col(\"home_ownership\") == \"RENT\") &\n",
    "    (col(\"purpose\") == \"debt_consolidation\")\n",
    ")\n",
    "\n",
    "print(\"Cantidad de registros en la partición:\", df_part2.count())\n",
    "df_part2.show(5)"
   ]
  },
  {
   "cell_type": "code",
   "execution_count": 145,
   "id": "43ea9ffe",
   "metadata": {},
   "outputs": [
    {
     "name": "stdout",
     "output_type": "stream",
     "text": [
      "Cantidad de registros en la partición: 219769\n",
      "+---------+----------+--------+-----------+-----+----------+--------------+----------+-----------+-----------+\n",
      "|loan_amnt|      term|int_rate|installment|grade|emp_length|home_ownership|annual_inc|    purpose|loan_status|\n",
      "+---------+----------+--------+-----------+-----+----------+--------------+----------+-----------+-----------+\n",
      "|     5550| 36 months|   15.02|     192.45|    C| 10+ years|      MORTGAGE|    152500|credit_card|  no_riesgo|\n",
      "|     5500| 36 months|   22.35|     211.05|    D|  < 1 year|      MORTGAGE|     50000|credit_card|  no_riesgo|\n",
      "|    28000| 60 months|   11.31|     613.13|    B|   2 years|      MORTGAGE|     70000|credit_card|  no_riesgo|\n",
      "|    11200| 36 months|    8.19|     351.95|    A| 10+ years|      MORTGAGE|     65000|credit_card|  no_riesgo|\n",
      "|    16000| 60 months|   20.89|     431.87|    D|   4 years|      MORTGAGE|    120000|credit_card|  no_riesgo|\n",
      "+---------+----------+--------+-----------+-----+----------+--------------+----------+-----------+-----------+\n",
      "only showing top 5 rows\n",
      "\n"
     ]
    }
   ],
   "source": [
    "df_part3 = df.filter(\n",
    "    (col(\"loan_status\") == \"no_riesgo\") &\n",
    "    (col(\"home_ownership\") == \"MORTGAGE\") &\n",
    "    (col(\"purpose\") == \"credit_card\")\n",
    ")\n",
    "\n",
    "print(\"Cantidad de registros en la partición:\", df_part3.count())\n",
    "df_part3.show(5)"
   ]
  },
  {
   "cell_type": "code",
   "execution_count": 146,
   "id": "35cdaa09",
   "metadata": {},
   "outputs": [
    {
     "name": "stdout",
     "output_type": "stream",
     "text": [
      "Cantidad de registros en la partición: 188961\n",
      "+---------+----------+--------+-----------+-----+----------+--------------+----------+-----------+-----------+\n",
      "|loan_amnt|      term|int_rate|installment|grade|emp_length|home_ownership|annual_inc|    purpose|loan_status|\n",
      "+---------+----------+--------+-----------+-----+----------+--------------+----------+-----------+-----------+\n",
      "|     6000| 36 months|   13.56|     203.79|    C| 10+ years|          RENT|     65000|credit_card|  no_riesgo|\n",
      "|     9600| 36 months|    23.4|     373.62|    E|   9 years|          RENT|     65000|credit_card|  no_riesgo|\n",
      "|    16000| 60 months|   26.31|     481.99|    E|  < 1 year|          RENT|     33000|credit_card|  no_riesgo|\n",
      "|     3500| 36 months|   20.89|     131.67|    D| 10+ years|          RENT|     33190|credit_card|  no_riesgo|\n",
      "|    10000| 36 months|   20.89|     376.19|    D|   7 years|          RENT|     74000|credit_card|  no_riesgo|\n",
      "+---------+----------+--------+-----------+-----+----------+--------------+----------+-----------+-----------+\n",
      "only showing top 5 rows\n",
      "\n"
     ]
    }
   ],
   "source": [
    "df_part4 = df.filter(\n",
    "    (col(\"loan_status\") == \"no_riesgo\") &\n",
    "    (col(\"home_ownership\") == \"RENT\") &\n",
    "    (col(\"purpose\") == \"credit_card\")\n",
    ")\n",
    "\n",
    "print(\"Cantidad de registros en la partición:\", df_part4.count())\n",
    "df_part4.show(5)"
   ]
  },
  {
   "cell_type": "markdown",
   "id": "1c09f480",
   "metadata": {},
   "source": [
    "## 7. Muestreo aleatorio de la partición\n",
    "\n",
    "Se extrae el 10% de los registros de forma aleatoria y sin reemplazo."
   ]
  },
  {
   "cell_type": "code",
   "execution_count": 148,
   "id": "344c8570",
   "metadata": {},
   "outputs": [
    {
     "name": "stdout",
     "output_type": "stream",
     "text": [
      "Cantidad en la muestra: 55225\n",
      "+---------+----------+--------+-----------+-----+----------+--------------+----------+------------------+-----------+\n",
      "|loan_amnt|      term|int_rate|installment|grade|emp_length|home_ownership|annual_inc|           purpose|loan_status|\n",
      "+---------+----------+--------+-----------+-----+----------+--------------+----------+------------------+-----------+\n",
      "|     3500| 36 months|   16.14|      123.3|    C| 10+ years|      MORTGAGE|     80000|debt_consolidation|  no_riesgo|\n",
      "|    40000| 60 months|   14.47|     940.51|    C|  < 1 year|      MORTGAGE|    500000|debt_consolidation|  no_riesgo|\n",
      "|    26000| 60 months|   18.94|      673.6|    D| 10+ years|      MORTGAGE|     40000|debt_consolidation|  no_riesgo|\n",
      "|    15000| 60 months|   14.47|     352.69|    C| 10+ years|      MORTGAGE|    120000|debt_consolidation|  no_riesgo|\n",
      "|    35000| 60 months|   15.02|     833.02|    C| 10+ years|      MORTGAGE|    106095|debt_consolidation|  no_riesgo|\n",
      "+---------+----------+--------+-----------+-----+----------+--------------+----------+------------------+-----------+\n",
      "only showing top 5 rows\n",
      "\n"
     ]
    }
   ],
   "source": [
    "df_part1_sample = df_part1.sample(withReplacement=False, fraction=0.1, seed=42)\n",
    "print(\"Cantidad en la muestra:\", df_part1_sample.count())\n",
    "df_part1_sample.show(5)"
   ]
  },
  {
   "cell_type": "markdown",
   "id": "8760170b",
   "metadata": {},
   "source": [
    "## 8. Conclusión"
   ]
  },
  {
   "cell_type": "markdown",
   "id": "3fd7160e",
   "metadata": {},
   "source": [
    "## Conclusión\n",
    "\n",
    "Este análisis permitió:\n",
    "- Identificar combinaciones significativas en la base de datos.\n",
    "- Extraer particiones específicas.\n",
    "- Aplicar muestreo aleatorio para reducir volumen de datos de forma representativa.\n",
    "\n"
   ]
  }
 ],
 "metadata": {
  "kernelspec": {
   "display_name": "Actividad0",
   "language": "python",
   "name": "python3"
  },
  "language_info": {
   "codemirror_mode": {
    "name": "ipython",
    "version": 3
   },
   "file_extension": ".py",
   "mimetype": "text/x-python",
   "name": "python",
   "nbconvert_exporter": "python",
   "pygments_lexer": "ipython3",
   "version": "3.12.9"
  }
 },
 "nbformat": 4,
 "nbformat_minor": 5
}
